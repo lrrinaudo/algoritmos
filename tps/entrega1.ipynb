{
 "cells": [
  {
   "cell_type": "code",
   "execution_count": 15,
   "metadata": {},
   "outputs": [],
   "source": [
    "import random\n",
    "import timeit\n",
    "import matplotlib.pyplot as plt\n",
    "import numpy as np\n",
    "import scipy as sp\n",
    "import scipy.special"
   ]
  },
  {
   "cell_type": "code",
   "execution_count": 16,
   "metadata": {},
   "outputs": [],
   "source": [
    "def busquedaBinaria(A, b):\n",
    "    if(len(A) == 1):\n",
    "        if(A[0] == b):\n",
    "            return b\n",
    "        else:\n",
    "            return False\n",
    "    else:\n",
    "        r1 = A[:len(A)//2]\n",
    "        r2 = A[len(A)//2:]\n",
    "        if(r1[len(r1) - 1] == b):\n",
    "            return b\n",
    "        elif(r1[len(r1) - 1] > b):\n",
    "            return busquedaBinaria(r1, b)\n",
    "        else:\n",
    "            return busquedaBinaria(r2, b)"
   ]
  },
  {
   "cell_type": "code",
   "execution_count": 17,
   "metadata": {},
   "outputs": [],
   "source": [
    "def busquedaTernaria(A, b):\n",
    "    if(len(A) == 2):\n",
    "        return busquedaBinaria(A, b)\n",
    "    elif(len(A) == 1):\n",
    "        if(A[0] == b):\n",
    "            return b\n",
    "        else:\n",
    "            return False\n",
    "    else:\n",
    "        r1 = A[:len(A)//3]\n",
    "        r2 = A[len(r1): len(r1) * 2]\n",
    "        r3 = A[len(r1) + len(r2):]\n",
    "        if(r1[len(r1) - 1] == b):\n",
    "            return b\n",
    "        elif(r1[len(r1) - 1] > b):\n",
    "            return busquedaTernaria(r1, b)\n",
    "        elif(r2[len(r2) - 1] > b):\n",
    "            return busquedaTernaria(r2, b)\n",
    "        else:\n",
    "            return busquedaTernaria(r3, b)"
   ]
  },
  {
   "cell_type": "code",
   "execution_count": 18,
   "metadata": {},
   "outputs": [
    {
     "ename": "KeyboardInterrupt",
     "evalue": "",
     "output_type": "error",
     "traceback": [
      "\u001b[0;31m---------------------------------------------------------------------------\u001b[0m",
      "\u001b[0;31mKeyboardInterrupt\u001b[0m                         Traceback (most recent call last)",
      "\u001b[0;32m<ipython-input-18-4193e4a4fead>\u001b[0m in \u001b[0;36m<module>\u001b[0;34m\u001b[0m\n\u001b[1;32m      8\u001b[0m     \u001b[0msuma\u001b[0m \u001b[0;34m=\u001b[0m \u001b[0;36m0\u001b[0m\u001b[0;34m\u001b[0m\u001b[0;34m\u001b[0m\u001b[0m\n\u001b[1;32m      9\u001b[0m     \u001b[0;32mfor\u001b[0m \u001b[0mi\u001b[0m \u001b[0;32min\u001b[0m \u001b[0mrange\u001b[0m\u001b[0;34m(\u001b[0m\u001b[0;36m1\u001b[0m\u001b[0;34m,\u001b[0m \u001b[0miteraciones\u001b[0m\u001b[0;34m)\u001b[0m\u001b[0;34m:\u001b[0m\u001b[0;34m\u001b[0m\u001b[0;34m\u001b[0m\u001b[0m\n\u001b[0;32m---> 10\u001b[0;31m         \u001b[0mv\u001b[0m \u001b[0;34m=\u001b[0m \u001b[0mlist\u001b[0m\u001b[0;34m(\u001b[0m\u001b[0mrange\u001b[0m\u001b[0;34m(\u001b[0m\u001b[0;36m1\u001b[0m\u001b[0;34m,\u001b[0m \u001b[0mn\u001b[0m\u001b[0;34m)\u001b[0m\u001b[0;34m)\u001b[0m\u001b[0;34m\u001b[0m\u001b[0;34m\u001b[0m\u001b[0m\n\u001b[0m\u001b[1;32m     11\u001b[0m         \u001b[0msuma\u001b[0m \u001b[0;34m+=\u001b[0m \u001b[0mtimeit\u001b[0m\u001b[0;34m.\u001b[0m\u001b[0mtimeit\u001b[0m\u001b[0;34m(\u001b[0m\u001b[0;32mlambda\u001b[0m\u001b[0;34m:\u001b[0m \u001b[0mbusquedaBinaria\u001b[0m\u001b[0;34m(\u001b[0m\u001b[0mv\u001b[0m\u001b[0;34m,\u001b[0m \u001b[0;36m1000000\u001b[0m\u001b[0;34m)\u001b[0m\u001b[0;34m,\u001b[0m \u001b[0mnumber\u001b[0m \u001b[0;34m=\u001b[0m \u001b[0;36m1\u001b[0m\u001b[0;34m)\u001b[0m\u001b[0;34m\u001b[0m\u001b[0;34m\u001b[0m\u001b[0m\n\u001b[1;32m     12\u001b[0m     \u001b[0mpromedio\u001b[0m \u001b[0;34m=\u001b[0m \u001b[0msuma\u001b[0m \u001b[0;34m/\u001b[0m \u001b[0miteraciones\u001b[0m\u001b[0;34m\u001b[0m\u001b[0;34m\u001b[0m\u001b[0m\n",
      "\u001b[0;31mKeyboardInterrupt\u001b[0m: "
     ]
    }
   ],
   "source": [
    "n_min = 10\n",
    "n_max = 10000\n",
    "st = 10\n",
    "iteraciones = 10 # iteraciones del benchmark\n",
    "\n",
    "bus_bin_DC = list()\n",
    "for n in range(n_min, n_max, st):\n",
    "    suma = 0\n",
    "    for i in range(1, iteraciones):\n",
    "        v = list(range(1, n))\n",
    "        suma += timeit.timeit(lambda: busquedaBinaria(v, 100000), number = 1)\n",
    "    promedio = suma / iteraciones\n",
    "    bus_bin_DC.append(promedio)\n",
    "\n",
    "bus_ter_DC = list()\n",
    "for n in range(n_min, n_max, st):\n",
    "    suma = 0\n",
    "    for i in range(1, iteraciones):\n",
    "        v = list(range(1, n))\n",
    "        suma += timeit.timeit(lambda: busquedaTernaria(v, 100000), number = 1)\n",
    "    promedio = suma / iteraciones\n",
    "    bus_ter_DC.append(promedio)    \n"
   ]
  },
  {
   "cell_type": "code",
   "execution_count": null,
   "metadata": {},
   "outputs": [],
   "source": [
    "eje_x = list(range(n_min, n_max, st))\n",
    "plt.plot(eje_x, bus_bin_DC, label = 'BusquedaBinaria')\n",
    "plt.xlabel('n')\n",
    "plt.ylabel('costo')\n",
    "plt.legend()\n",
    "\n",
    "eje_x = list(range(n_min, n_max, st))\n",
    "plt.plot(eje_x, bus_ter_DC, label = 'BusquedaTernaria')\n",
    "plt.xlabel('n')\n",
    "plt.ylabel('costo')\n",
    "plt.legend()"
   ]
  },
  {
   "cell_type": "code",
   "execution_count": null,
   "metadata": {},
   "outputs": [],
   "source": []
  }
 ],
 "metadata": {
  "kernelspec": {
   "display_name": "Python 3",
   "language": "python",
   "name": "python3"
  },
  "language_info": {
   "codemirror_mode": {
    "name": "ipython",
    "version": 3
   },
   "file_extension": ".py",
   "mimetype": "text/x-python",
   "name": "python",
   "nbconvert_exporter": "python",
   "pygments_lexer": "ipython3",
   "version": "3.8.3"
  }
 },
 "nbformat": 4,
 "nbformat_minor": 4
}

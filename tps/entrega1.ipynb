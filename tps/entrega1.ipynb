{
 "cells": [
  {
   "cell_type": "code",
   "execution_count": 61,
   "metadata": {},
   "outputs": [],
   "source": [
    "import random\n",
    "import timeit\n",
    "import matplotlib.pyplot as plt\n",
    "import numpy as np\n",
    "import scipy as sp\n",
    "import scipy.special"
   ]
  },
  {
   "cell_type": "code",
   "execution_count": 62,
   "metadata": {},
   "outputs": [],
   "source": [
    "def busquedaBinaria(A, b):\n",
    "    if(len(A) == 1):\n",
    "        if(A[0] == b):\n",
    "            return b\n",
    "        else:\n",
    "            raise Exception('El elemento no existe')\n",
    "    else:\n",
    "        r1 = A[:len(A)//2]\n",
    "        r2 = A[len(A)//2:]\n",
    "        if(r1[len(r1) - 1] == b):\n",
    "            return b\n",
    "        elif(r1[len(r1) - 1] > b):\n",
    "            return busquedaBinaria(r1, b)\n",
    "        else:\n",
    "            return busquedaBinaria(r2, b)"
   ]
  },
  {
   "cell_type": "code",
   "execution_count": 63,
   "metadata": {},
   "outputs": [],
   "source": [
    "def busquedaTernaria(A, b):\n",
    "    if(len(A) == 2):\n",
    "        return busquedaBinaria(A, b)\n",
    "    elif(len(A) == 1):\n",
    "        if(A[0] == b):\n",
    "            return b\n",
    "        else:\n",
    "            raise Exception('El elemento no existe')\n",
    "    else:\n",
    "        r1 = A[:len(A)//3]\n",
    "        r2 = A[len(r1): len(r1) * 2]\n",
    "        r3 = A[len(r1) + len(r2):]\n",
    "        if(r1[len(r1) - 1] == b):\n",
    "            return b\n",
    "        elif(r1[len(r1) - 1] > b):\n",
    "            return busquedaTernaria(r1, b)\n",
    "        elif(r2[len(r2) - 1] > b):\n",
    "            return busquedaTernaria(r2, b)\n",
    "        else:\n",
    "            return busquedaTernaria(r3, b)"
   ]
  },
  {
   "cell_type": "code",
   "execution_count": 64,
   "metadata": {},
   "outputs": [],
   "source": [
    "n_min = 10\n",
    "n_max = 10000\n",
    "st = 10\n",
    "iteraciones = 10 # iteraciones del benchmark\n",
    "\n",
    "bus_bin_DC = list()\n",
    "for n in range(n_min, n_max, st):\n",
    "    suma = 0\n",
    "    for i in range(1, iteraciones):\n",
    "        v = list(range(1, 10000))\n",
    "        suma += timeit.timeit(lambda: busquedaBinaria(v, 9999), number = 1)\n",
    "    promedio = suma / iteraciones\n",
    "    bus_bin_DC.append(promedio)\n",
    "\n",
    "bus_ter_DC = list()\n",
    "for n in range(n_min, n_max, st):\n",
    "    suma = 0\n",
    "    for i in range(1, iteraciones):\n",
    "        v = list(range(1, 10000))\n",
    "        suma += timeit.timeit(lambda: busquedaTernaria(v, 9999), number = 1)\n",
    "    promedio = suma / iteraciones\n",
    "    bus_ter_DC.append(promedio)    \n"
   ]
  },
  {
   "cell_type": "code",
   "execution_count": 65,
   "metadata": {},
   "outputs": [
    {
     "data": {
      "text/plain": [
       "<matplotlib.legend.Legend at 0x7faeda11f280>"
      ]
     },
     "execution_count": 65,
     "metadata": {},
     "output_type": "execute_result"
    },
    {
     "data": {
      "image/png": "[encoded data removed]",
      "text/plain": [
       "<Figure size 432x288 with 1 Axes>"
      ]
     },
     "metadata": {
      "needs_background": "light"
     },
     "output_type": "display_data"
    }
   ],
   "source": [
    "eje_x = list(range(n_min, n_max, st))\n",
    "plt.plot(eje_x, bus_bin_DC, label = 'BusquedaBinaria')\n",
    "plt.xlabel('n')\n",
    "plt.ylabel('costo')\n",
    "plt.legend()\n",
    "\n",
    "eje_x = list(range(n_min, n_max, st))\n",
    "plt.plot(eje_x, bus_ter_DC, label = 'BusquedaTernaria')\n",
    "plt.xlabel('n')\n",
    "plt.ylabel('costo')\n",
    "plt.legend()"
   ]
  },
  {
   "cell_type": "code",
   "execution_count": null,
   "metadata": {},
   "outputs": [],
   "source": []
  }
 ],
 "metadata": {
  "kernelspec": {
   "display_name": "Python 3",
   "language": "python",
   "name": "python3"
  },
  "language_info": {
   "codemirror_mode": {
    "name": "ipython",
    "version": 3
   },
   "file_extension": ".py",
   "mimetype": "text/x-python",
   "name": "python",
   "nbconvert_exporter": "python",
   "pygments_lexer": "ipython3",
   "version": "3.8.3"
  }
 },
 "nbformat": 4,
 "nbformat_minor": 4
}
